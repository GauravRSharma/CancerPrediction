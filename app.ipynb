{
 "cells": [
  {
   "cell_type": "code",
   "execution_count": 2,
   "id": "878deee1",
   "metadata": {},
   "outputs": [],
   "source": [
    "from flask import Flask, jsonify, request\n",
    "import pickle\n",
    "from flask import render_template"
   ]
  },
  {
   "cell_type": "code",
   "execution_count": null,
   "id": "c367b2cc",
   "metadata": {},
   "outputs": [],
   "source": [
    "model = pickle.load(open('breast-cancer.csv','r'))\n",
    "\n",
    "app = Flask(__name__)\n",
    "\n",
    "@app.route('/')\n",
    "def man():\n",
    "    return render_request('home.html')\n",
    "\n",
    "@app.route('/predict',methods = ['Post'])\n",
    "def home():\n",
    "    a= request.form['a']\n",
    "    b= request.form['b']\n",
    "    c= request.form['c']\n",
    "    d= request.form['d']\n",
    "    \n",
    "    arr = np.array([[a,b,c,d]])\n",
    "    pred = model.predict(arr)\n",
    "    return render_template('after.html',data=pred)\n",
    "if __name__='__main__':\n",
    "    app.run(host='0.0.0.0',port = 8080, debug=False)\n",
    "    "
   ]
  }
 ],
 "metadata": {
  "kernelspec": {
   "display_name": "Python 3 (ipykernel)",
   "language": "python",
   "name": "python3"
  },
  "language_info": {
   "codemirror_mode": {
    "name": "ipython",
    "version": 3
   },
   "file_extension": ".py",
   "mimetype": "text/x-python",
   "name": "python",
   "nbconvert_exporter": "python",
   "pygments_lexer": "ipython3",
   "version": "3.9.12"
  }
 },
 "nbformat": 4,
 "nbformat_minor": 5
}
